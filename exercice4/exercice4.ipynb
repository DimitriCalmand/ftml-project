{
 "cells": [
  {
   "cell_type": "markdown",
   "id": "ce5e22f3",
   "metadata": {},
   "source": [
    "Nous avons testé deux modèles de régression linéaire réguliérisée : Ridge Regression et Lasso Regression.  \n",
    "Le modèle Ridge obtient un $R^2$ de 0.9879 sur le train et 0.7161 sur le test.  \n",
    "Le modèle Lasso (avec les bons hyperparamètres) atteint un $R^2$ de 0.9438 sur le train et 0.9189 sur le test, ce qui montre une meilleure généralisation."
   ]
  },
  {
   "cell_type": "code",
   "execution_count": 4,
   "id": "717ebfde",
   "metadata": {},
   "outputs": [],
   "source": [
    "import numpy as np"
   ]
  },
  {
   "cell_type": "code",
   "execution_count": null,
   "id": "3ed11f12",
   "metadata": {},
   "outputs": [],
   "source": [
    "x_test = np.load(\"../data/regression/X_test.npy\")\n",
    "y_test = np.load(\"../data/regression/y_test.npy\")\n",
    "x_train = np.load(\"../data/regression/X_train.npy\")\n",
    "y_train = np.load(\"../data/regression/y_train.npy\")"
   ]
  },
  {
   "cell_type": "code",
   "execution_count": 6,
   "id": "021d8bbd",
   "metadata": {},
   "outputs": [
    {
     "name": "stdout",
     "output_type": "stream",
     "text": [
      "x_test shape: (200, 200)\n",
      "y_test shape: (200, 1)\n",
      "x_train first sample: [0.36280827 0.63181952 0.49403499 0.39694208 0.92990504 0.71034867\n",
      " 0.65375238 0.58129719 0.04826641 0.36238591]\n"
     ]
    }
   ],
   "source": [
    "print(\"x_test shape:\", x_test.shape)\n",
    "print(\"y_test shape:\", y_test.shape)\n",
    "print(\"x_train first sample:\", x_train[0, :10])"
   ]
  },
  {
   "cell_type": "code",
   "execution_count": 15,
   "id": "f3bda6eb",
   "metadata": {},
   "outputs": [
    {
     "name": "stdout",
     "output_type": "stream",
     "text": [
      "R² train (Ridge): 0.9879337565416217\n",
      "R² test  (Ridge): 0.7160766522783873\n"
     ]
    }
   ],
   "source": [
    "from sklearn.linear_model import Ridge\n",
    "from sklearn.metrics import r2_score\n",
    "ridge_reg = Ridge(alpha=1.0)\n",
    "\n",
    "ridge_reg.fit(x_train, y_train)\n",
    "\n",
    "y_pred_train_ridge = ridge_reg.predict(x_train)\n",
    "y_pred_test_ridge = ridge_reg.predict(x_test)\n",
    "\n",
    "r2_train_ridge = r2_score(y_train, y_pred_train_ridge)\n",
    "r2_test_ridge = r2_score(y_test, y_pred_test_ridge)\n",
    "\n",
    "print(f\"R² train (Ridge): {r2_train_ridge}\")\n",
    "print(f\"R² test  (Ridge): {r2_test_ridge}\")\n"
   ]
  },
  {
   "cell_type": "code",
   "execution_count": 13,
   "id": "4dcf9629",
   "metadata": {},
   "outputs": [
    {
     "name": "stdout",
     "output_type": "stream",
     "text": [
      "R² train (Lasso fixed): 0.9438405477140172\n",
      "R² test  (Lasso fixed): 0.9188846367683329\n"
     ]
    }
   ],
   "source": [
    "\n",
    "from sklearn.linear_model import Lasso\n",
    "from sklearn.metrics import r2_score\n",
    "\n",
    "lasso = Lasso(max_iter=10000, alpha=0.01)\n",
    "lasso.fit(x_train, y_train)\n",
    "y_pred_train_lasso_fixed = lasso.predict(x_train)\n",
    "y_pred_test_lasso_fixed = lasso.predict(x_test)\n",
    "r2_train_lasso_fixed = r2_score(y_train, y_pred_train_lasso_fixed)\n",
    "r2_test_lasso_fixed = r2_score(y_test, y_pred_test_lasso_fixed)\n",
    "print(f\"R² train (Lasso fixed): {r2_train_lasso_fixed}\")\n",
    "print(f\"R² test  (Lasso fixed): {r2_test_lasso_fixed}\")\n"
   ]
  },
  {
   "cell_type": "code",
   "execution_count": null,
   "id": "90174f44",
   "metadata": {},
   "outputs": [],
   "source": []
  }
 ],
 "metadata": {
  "kernelspec": {
   "display_name": "env-ftml-project",
   "language": "python",
   "name": "python3"
  },
  "language_info": {
   "codemirror_mode": {
    "name": "ipython",
    "version": 3
   },
   "file_extension": ".py",
   "mimetype": "text/x-python",
   "name": "python",
   "nbconvert_exporter": "python",
   "pygments_lexer": "ipython3",
   "version": "3.10.12"
  }
 },
 "nbformat": 4,
 "nbformat_minor": 5
}
