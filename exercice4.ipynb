{
 "cells": [
  {
   "cell_type": "code",
   "execution_count": 1,
   "id": "717ebfde",
   "metadata": {},
   "outputs": [],
   "source": [
    "import numpy as np"
   ]
  },
  {
   "cell_type": "code",
   "execution_count": 3,
   "id": "3ed11f12",
   "metadata": {},
   "outputs": [],
   "source": [
    "x_test = np.load(\"data/X_test.npy\")\n",
    "y_test = np.load(\"data/y_test.npy\")\n",
    "x_train = np.load(\"data/X_train.npy\")\n",
    "y_train = np.load(\"data/y_train.npy\")"
   ]
  },
  {
   "cell_type": "code",
   "execution_count": 8,
   "id": "021d8bbd",
   "metadata": {},
   "outputs": [
    {
     "name": "stdout",
     "output_type": "stream",
     "text": [
      "x_test shape: (200, 200)\n",
      "y_test shape: (200, 1)\n",
      "x_train first sample: [0.36280827 0.63181952 0.49403499 0.39694208 0.92990504 0.71034867\n",
      " 0.65375238 0.58129719 0.04826641 0.36238591]\n"
     ]
    }
   ],
   "source": [
    "print(\"x_test shape:\", x_test.shape)\n",
    "print(\"y_test shape:\", y_test.shape)\n",
    "print(\"x_train first sample:\", x_train[0, :10])"
   ]
  },
  {
   "cell_type": "code",
   "execution_count": 16,
   "id": "5136624a",
   "metadata": {},
   "outputs": [
    {
     "name": "stdout",
     "output_type": "stream",
     "text": [
      "R² train (LinReg): 1.0000\n",
      "R² test  (LinReg): -9.9188\n"
     ]
    }
   ],
   "source": [
    "from sklearn.linear_model import LinearRegression\n",
    "from sklearn.metrics import r2_score\n",
    "\n",
    "# Créer le modèle\n",
    "lin_reg = LinearRegression()\n",
    "\n",
    "# Entraîner le modèle\n",
    "lin_reg.fit(x_train, y_train)\n",
    "\n",
    "# Prédictions\n",
    "y_pred_train = lin_reg.predict(x_train)\n",
    "y_pred_test = lin_reg.predict(x_test)\n",
    "\n",
    "# Évaluer le modèle\n",
    "r2_train = r2_score(y_train, y_pred_train)\n",
    "r2_test = r2_score(y_test, y_pred_test)\n",
    "\n",
    "print(f\"R² train (LinReg): {r2_train:.4f}\")\n",
    "print(f\"R² test  (LinReg): {r2_test:.4f}\")\n"
   ]
  },
  {
   "cell_type": "code",
   "execution_count": 17,
   "id": "f3bda6eb",
   "metadata": {},
   "outputs": [
    {
     "name": "stdout",
     "output_type": "stream",
     "text": [
      "R² train (Ridge): 0.9879\n",
      "R² test  (Ridge): 0.7161\n"
     ]
    }
   ],
   "source": [
    "from sklearn.linear_model import Ridge\n",
    "\n",
    "# Créer le modèle Ridge avec alpha=1.0\n",
    "ridge_reg = Ridge(alpha=1.0)\n",
    "\n",
    "# Entraîner le modèle\n",
    "ridge_reg.fit(x_train, y_train)\n",
    "\n",
    "# Prédictions\n",
    "y_pred_train_ridge = ridge_reg.predict(x_train)\n",
    "y_pred_test_ridge = ridge_reg.predict(x_test)\n",
    "\n",
    "# Évaluer le modèle\n",
    "r2_train_ridge = r2_score(y_train, y_pred_train_ridge)\n",
    "r2_test_ridge = r2_score(y_test, y_pred_test_ridge)\n",
    "\n",
    "print(f\"R² train (Ridge): {r2_train_ridge:.4f}\")\n",
    "print(f\"R² test  (Ridge): {r2_test_ridge:.4f}\")\n"
   ]
  },
  {
   "cell_type": "code",
   "execution_count": 34,
   "id": "68a49f76",
   "metadata": {},
   "outputs": [
    {
     "name": "stdout",
     "output_type": "stream",
     "text": [
      "Best alpha (Lasso): 0.01\n",
      "R² train (best Lasso): 0.9751\n",
      "R² test  (best Lasso): 0.9196\n"
     ]
    }
   ],
   "source": [
    "from sklearn.linear_model import Lasso\n",
    "from sklearn.model_selection import GridSearchCV\n",
    "from sklearn.pipeline import Pipeline\n",
    "from sklearn.preprocessing import StandardScaler\n",
    "\n",
    "# Pipeline : scaler + lasso\n",
    "lasso_pipeline = Pipeline([\n",
    "    ('scaler', StandardScaler()),\n",
    "    ('lasso', Lasso(max_iter=10000))\n",
    "])\n",
    "\n",
    "# Grille des alpha à tester\n",
    "param_grid_lasso = {\n",
    "    'lasso__alpha': [0.0001, 0.001, 0.01, 0.1, 1.0, 10.0]\n",
    "}\n",
    "\n",
    "# GridSearchCV\n",
    "grid_search_lasso = GridSearchCV(lasso_pipeline, param_grid_lasso, cv=5, scoring='r2', n_jobs=-1)\n",
    "\n",
    "# Entraînement\n",
    "grid_search_lasso.fit(x_train, y_train)\n",
    "\n",
    "# Meilleur modèle\n",
    "best_lasso = grid_search_lasso.best_estimator_\n",
    "\n",
    "# Prédictions\n",
    "y_pred_train_lasso = best_lasso.predict(x_train)\n",
    "y_pred_test_lasso = best_lasso.predict(x_test)\n",
    "\n",
    "# Scores\n",
    "r2_train_lasso = r2_score(y_train, y_pred_train_lasso)\n",
    "r2_test_lasso = r2_score(y_test, y_pred_test_lasso)\n",
    "\n",
    "print(f\"Best alpha (Lasso): {grid_search_lasso.best_params_['lasso__alpha']}\")\n",
    "print(f\"R² train (best Lasso): {r2_train_lasso:.4f}\")\n",
    "print(f\"R² test  (best Lasso): {r2_test_lasso:.4f}\")\n"
   ]
  },
  {
   "cell_type": "code",
   "execution_count": null,
   "id": "4dcf9629",
   "metadata": {},
   "outputs": [],
   "source": []
  }
 ],
 "metadata": {
  "kernelspec": {
   "display_name": "env-ftml-project",
   "language": "python",
   "name": "python3"
  },
  "language_info": {
   "codemirror_mode": {
    "name": "ipython",
    "version": 3
   },
   "file_extension": ".py",
   "mimetype": "text/x-python",
   "name": "python",
   "nbconvert_exporter": "python",
   "pygments_lexer": "ipython3",
   "version": "3.10.12"
  }
 },
 "nbformat": 4,
 "nbformat_minor": 5
}
