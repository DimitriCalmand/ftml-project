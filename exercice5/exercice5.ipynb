{
 "cells": [
  {
   "cell_type": "code",
   "execution_count": 1,
   "id": "9c9fd449",
   "metadata": {},
   "outputs": [],
   "source": [
    "import numpy as np"
   ]
  },
  {
   "cell_type": "code",
   "execution_count": null,
   "id": "333726a2",
   "metadata": {},
   "outputs": [],
   "source": [
    "x_test = np.load(\"../data/classification/X_test.npy\")\n",
    "y_test = np.load(\"../data/classification/y_test.npy\")\n",
    "x_train = np.load(\"../data/classification/X_train.npy\")\n",
    "y_train = np.load(\"../data/classification/y_train.npy\")"
   ]
  },
  {
   "cell_type": "code",
   "execution_count": 57,
   "id": "24f587ef",
   "metadata": {},
   "outputs": [
    {
     "name": "stdout",
     "output_type": "stream",
     "text": [
      "x_test shape: (2000, 30)\n",
      "y_test shape: (2000,)\n",
      "x_train first sample: [-0.27430128  0.20091783 -0.59955357 -1.33564259 -3.12191075  1.28998558\n",
      " -0.37995092  3.14831389 -2.08409739  0.25375361]\n"
     ]
    }
   ],
   "source": [
    "print(\"x_test shape:\", x_test.shape)\n",
    "print(\"y_test shape:\", y_test.shape)\n",
    "print(\"x_train first sample:\", x_train[0, :10])"
   ]
  },
  {
   "cell_type": "code",
   "execution_count": 40,
   "id": "b4bed299",
   "metadata": {},
   "outputs": [
    {
     "name": "stdout",
     "output_type": "stream",
     "text": [
      "Best Logistic Regression test score: 0.7385\n",
      "Best Logistic Regression params: {'logreg__C': 0.1, 'logreg__max_iter': 500, 'logreg__penalty': 'l2', 'logreg__solver': 'lbfgs'}\n",
      "Best SVC test score: 0.787\n",
      "Best SVC params: {'svc__C': 1, 'svc__gamma': 'scale', 'svc__kernel': 'rbf'}\n",
      "Best KNN test score: 0.782\n",
      "Best KNN params: {'knn__n_neighbors': 30, 'knn__p': 1, 'knn__weights': 'distance'}\n"
     ]
    }
   ],
   "source": [
    "from sklearn.model_selection import GridSearchCV\n",
    "from sklearn.pipeline import Pipeline\n",
    "from sklearn.preprocessing import StandardScaler\n",
    "\n",
    "# Logistic Regression\n",
    "from sklearn.linear_model import LogisticRegression\n",
    "param_grid_lr = {\n",
    "    'logreg__C': [0.001, 0.01, 0.1, 1, 10, 100],\n",
    "    'logreg__penalty': ['l2'],\n",
    "    'logreg__solver': ['lbfgs', 'saga'],\n",
    "    'logreg__max_iter': [500, 1000, 2000]\n",
    "}\n",
    "pipe_lr = Pipeline([\n",
    "    ('scaler', StandardScaler()), \n",
    "    ('logreg', LogisticRegression(random_state=42))\n",
    "])\n",
    "gs_lr = GridSearchCV(pipe_lr, param_grid_lr, cv=5, n_jobs=-1)\n",
    "gs_lr.fit(x_train, y_train)\n",
    "print(\"Best Logistic Regression test score:\", gs_lr.score(x_test, y_test))\n",
    "print(\"Best Logistic Regression params:\", gs_lr.best_params_)\n",
    "\n",
    "# SVC\n",
    "from sklearn.svm import SVC\n",
    "param_grid_svc = {\n",
    "    'svc__C': [0.01, 0.1, 1, 10, 100],\n",
    "    'svc__kernel': ['linear', 'rbf', 'poly'],\n",
    "    'svc__gamma': ['scale', 'auto']\n",
    "}\n",
    "pipe_svc = Pipeline([\n",
    "    ('scaler', StandardScaler()),\n",
    "    ('svc', SVC(random_state=42))\n",
    "])\n",
    "gs_svc = GridSearchCV(pipe_svc, param_grid_svc, cv=5, n_jobs=-1)\n",
    "gs_svc.fit(x_train, y_train)\n",
    "print(\"Best SVC test score:\", gs_svc.score(x_test, y_test))\n",
    "print(\"Best SVC params:\", gs_svc.best_params_)\n",
    "\n",
    "# KNN\n",
    "from sklearn.neighbors import KNeighborsClassifier\n",
    "param_grid_knn = {\n",
    "    'knn__n_neighbors': [5, 10, 20, 30, 40, 50],\n",
    "    'knn__weights': ['uniform', 'distance'],\n",
    "    'knn__p': [1, 2]\n",
    "}\n",
    "pipe_knn = Pipeline([\n",
    "    ('scaler', StandardScaler()),\n",
    "    ('knn', KNeighborsClassifier())\n",
    "])\n",
    "gs_knn = GridSearchCV(pipe_knn, param_grid_knn, cv=5, n_jobs=-1)\n",
    "gs_knn.fit(x_train, y_train)\n",
    "print(\"Best KNN test score:\", gs_knn.score(x_test, y_test))\n",
    "print(\"Best KNN params:\", gs_knn.best_params_)"
   ]
  },
  {
   "cell_type": "code",
   "execution_count": null,
   "id": "3fee550f",
   "metadata": {},
   "outputs": [],
   "source": [
    "from sklearn.svm import SVC\n",
    "from sklearn.model_selection import GridSearchCV\n",
    "from sklearn.pipeline import Pipeline\n",
    "from sklearn.preprocessing import StandardScaler\n",
    "\n",
    "pipe_svc = Pipeline([\n",
    "    ('scaler', StandardScaler()),\n",
    "    ('svc', SVC(random_state=42))\n",
    "])\n",
    "\n",
    "param_grid_svc_fine = {\n",
    "    'svc__C': [0.1, 0.5, 1, 5, 10, 20],\n",
    "    'svc__kernel': ['linear', 'rbf', 'poly', 'sigmoid'],\n",
    "    'svc__gamma': ['scale', 'auto', 0.01, 0.1, 1],\n",
    "    'svc__degree': [2, 3, 4],          # uniquement pour 'poly'\n",
    "    'svc__coef0': [0, 0.1, 0.5, 1]    # pour 'poly' et 'sigmoid'\n",
    "}\n",
    "\n",
    "gs_svc_fine = GridSearchCV(pipe_svc, param_grid_svc_fine, cv=5, n_jobs=-1, verbose=0)\n",
    "gs_svc_fine.fit(x_train, y_train)\n",
    "\n",
    "print(\"Best SVC test score:\", gs_svc_fine.score(x_test, y_test))\n",
    "print(\"Best SVC params:\", gs_svc_fine.best_params_)\n"
   ]
  },
  {
   "cell_type": "code",
   "execution_count": 59,
   "id": "6b6ce001",
   "metadata": {},
   "outputs": [
    {
     "name": "stdout",
     "output_type": "stream",
     "text": [
      "Custom SVC test score: 0.8\n"
     ]
    }
   ],
   "source": [
    "from sklearn.svm import SVC\n",
    "from sklearn.pipeline import Pipeline\n",
    "from sklearn.preprocessing import StandardScaler\n",
    "\n",
    "pipe_svc_custom = Pipeline([\n",
    "    ('scaler', StandardScaler()),\n",
    "    ('svc', SVC(random_state=1))\n",
    "])\n",
    "\n",
    "pipe_svc_custom.set_params(\n",
    "    svc__C=5,\n",
    "    svc__coef0=0,\n",
    "    svc__degree=2,\n",
    "    svc__gamma=0.1,\n",
    "    svc__kernel='rbf'\n",
    ")\n",
    "\n",
    "pipe_svc_custom.fit(x_train, y_train)\n",
    "print(\"Custom SVC test score:\", pipe_svc_custom.score(x_test, y_test))"
   ]
  }
 ],
 "metadata": {
  "kernelspec": {
   "display_name": "env-ftml-project",
   "language": "python",
   "name": "python3"
  },
  "language_info": {
   "codemirror_mode": {
    "name": "ipython",
    "version": 3
   },
   "file_extension": ".py",
   "mimetype": "text/x-python",
   "name": "python",
   "nbconvert_exporter": "python",
   "pygments_lexer": "ipython3",
   "version": "3.10.12"
  }
 },
 "nbformat": 4,
 "nbformat_minor": 5
}
