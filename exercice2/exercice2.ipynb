{
 "cells": [
  {
   "cell_type": "markdown",
   "id": "750a0415",
   "metadata": {},
   "source": [
    "# Question 0:\n",
    "On considère la fonction suivante :\n",
    "\n",
    "$$f(t) = t^3$$\n",
    "\n",
    "Sa dérivée est donnée par :\n",
    "\n",
    "$$f'(t) = 3t^2$$\n",
    "\n",
    "On observe que $$ f'(0) = 0 $$et, $f$ n'admet pas d’extremum local en $$ t = 0 $$\n"
   ]
  },
  {
   "cell_type": "code",
   "execution_count": 16,
   "id": "e0b6cb02",
   "metadata": {},
   "outputs": [],
   "source": [
    "import numpy as np\n",
    "import matplotlib.pyplot as plt\n",
    "\n",
    "rng = np.random.default_rng()"
   ]
  },
  {
   "cell_type": "code",
   "execution_count": 14,
   "id": "a2b2525f",
   "metadata": {},
   "outputs": [],
   "source": [
    "# On fixe X = 1 pour tout le monde\n",
    "X_train = np.ones(1000)\n",
    "\n",
    "# Générer un bruit asymétrique : une mixture de gaussiennes\n",
    "# 70% de bruit centré à 0, 30% centré à 3 → asymétrie\n",
    "noise = np.concatenate([\n",
    "    rng.normal(loc=0, scale=1, size=700),\n",
    "    rng.normal(loc=3, scale=1, size=300)\n",
    "])\n",
    "\n",
    "# Définir Y = X³ + bruit\n",
    "Y_train = X_train**3 + noise  # X = 1 ⇒ X³ = 1 ⇒ Y ≈ 1 + bruit asymétrique\n"
   ]
  },
  {
   "cell_type": "code",
   "execution_count": 20,
   "id": "7a951486",
   "metadata": {},
   "outputs": [],
   "source": [
    "f_star_squared = np.mean(Y_train)\n",
    "f_star_absolute = np.median(Y_train)"
   ]
  },
  {
   "cell_type": "code",
   "execution_count": 21,
   "id": "a8788834",
   "metadata": {},
   "outputs": [
    {
     "data": {
      "image/png": "[encoded data removed]",
      "text/plain": [
       "<Figure size 640x480 with 1 Axes>"
      ]
     },
     "metadata": {},
     "output_type": "display_data"
    }
   ],
   "source": [
    "plt.hist(Y_train, bins=50, density=True, alpha=0.6, label=\"p(Y|X=1)\")\n",
    "plt.axvline(f_star_squared, color='red', linestyle='--', label=\"f* squared (mean)\")\n",
    "plt.axvline(f_star_absolute, color='green', linestyle='--', label=\"f* absolute (median)\")\n",
    "plt.title(\"Distribution de Y | X=1\")\n",
    "plt.legend()\n",
    "plt.show()"
   ]
  },
  {
   "cell_type": "code",
   "execution_count": 22,
   "id": "9cadf4f2",
   "metadata": {},
   "outputs": [
    {
     "name": "stdout",
     "output_type": "stream",
     "text": [
      "Risques (f* squared):\n",
      "- Squared loss : 2.7938198910292105\n",
      "- Absolute loss: 1.3789963715483806\n",
      "Risques (f* absolute):\n",
      "- Squared loss : 2.9366129679530015\n",
      "- Absolute loss: 1.356474819765284\n"
     ]
    }
   ],
   "source": [
    "# Génération du test set avec même X=1 et même bruit\n",
    "noise_test = np.concatenate([\n",
    "    rng.normal(loc=0, scale=1, size=700),\n",
    "    rng.normal(loc=3, scale=1, size=300)\n",
    "])\n",
    "X_test = np.ones(1000)\n",
    "Y_test = X_test**3 + noise_test\n",
    "\n",
    "# Risque empirique\n",
    "def squared_loss(y_pred, y_true):\n",
    "    return np.mean((y_pred - y_true) ** 2)\n",
    "\n",
    "def absolute_loss(y_pred, y_true):\n",
    "    return np.mean(np.abs(y_pred - y_true))\n",
    "\n",
    "# Evaluation\n",
    "sq_f_sq = squared_loss(f_star_squared, Y_test)\n",
    "ab_f_sq = absolute_loss(f_star_squared, Y_test)\n",
    "\n",
    "sq_f_ab = squared_loss(f_star_absolute, Y_test)\n",
    "ab_f_ab = absolute_loss(f_star_absolute, Y_test)\n",
    "\n",
    "print(\"Risques (f* squared):\")\n",
    "print(\"- Squared loss :\", sq_f_sq)\n",
    "print(\"- Absolute loss:\", ab_f_sq)\n",
    "\n",
    "print(\"Risques (f* absolute):\")\n",
    "print(\"- Squared loss :\", sq_f_ab)\n",
    "print(\"- Absolute loss:\", ab_f_ab)\n"
   ]
  },
  {
   "cell_type": "markdown",
   "id": "d5aa21b7",
   "metadata": {},
   "source": [
    "## Question 2"
   ]
  },
  {
   "cell_type": "markdown",
   "id": "d3131ab4",
   "metadata": {},
   "source": [
    "On cherche à minimiser :  \n",
    "$$\n",
    "g(z) = \\mathbb{E}[|Y - z| \\mid X = x] = \\int_{-\\infty}^{\\infty} |y - z| \\cdot p(y) \\, dy\n",
    "$$\n",
    "\n",
    "On découpe l’intégrale :  \n",
    "$$\n",
    "g(z) = \\int_{-\\infty}^{z} (z - y) p(y) \\, dy + \\int_{z}^{\\infty} (y - z) p(y) \\, dy\n",
    "$$\n",
    "\n",
    "On dérive sous le signe intégral (en utilisant le théorème de Leibniz) :  \n",
    "$$\n",
    "g'(z) = \\frac{d}{dz} \\left[ \\int_{-\\infty}^{z} (z - y) p(y) \\, dy + \\int_{z}^{\\infty} (y - z) p(y) \\, dy \\right]\n",
    "$$\n",
    "$$\n",
    "= \\int_{-\\infty}^{z} p(y) \\, dy - \\int_{z}^{\\infty} p(y) \\, dy = 2F(z) - 1\n",
    "$$\n",
    "\n",
    "\n",
    "## Résultat :\n",
    "\n",
    "Le minimum de $g(z)$ est atteint lorsque $g'(z) = 0$, donc $F(z) = 0.5$.  \n",
    "Autrement dit, le prédicteur de Bayes pour la loss absolue est :\n",
    "\n",
    "$$\n",
    "f^*_{\\text{absolute}}(x) = \\text{médiane de } Y \\mid X = x\n",
    "$$\n"
   ]
  },
  {
   "cell_type": "code",
   "execution_count": null,
   "id": "5f644f58",
   "metadata": {},
   "outputs": [],
   "source": []
  }
 ],
 "metadata": {
  "kernelspec": {
   "display_name": "env-ftml-project",
   "language": "python",
   "name": "python3"
  },
  "language_info": {
   "codemirror_mode": {
    "name": "ipython",
    "version": 3
   },
   "file_extension": ".py",
   "mimetype": "text/x-python",
   "name": "python",
   "nbconvert_exporter": "python",
   "pygments_lexer": "ipython3",
   "version": "3.10.12"
  }
 },
 "nbformat": 4,
 "nbformat_minor": 5
}
