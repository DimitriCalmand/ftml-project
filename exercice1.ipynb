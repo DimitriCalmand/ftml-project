{
 "cells": [
  {
   "cell_type": "markdown",
   "metadata": {},
   "source": [
    "# Question 1\n",
    "Nous allons considèrer la consomation moyenne d'electricité d'une maison en fonction de la température exterieur.  \n",
    "Soit $X\\in\\mathbb{R}$ qui définit la température exterieur, en degrés Celcius\n",
    "Soit $Y\\in\\mathbb{R}$ qui définit la consomation electrique de la maison en Watt\n",
    "\n",
    "$X \\sim \\mathcal{U}[0,40]$  \n",
    "$Y \\sim 2X + \\epsilon$  \n",
    "avec : $\\epsilon = \\mathcal N[0,100]$\n",
    "\n",
    "### Fonction de perte\n",
    "Nous allons utiliser la perte quadratique:  \n",
    "$l(y_{true}, y_{pred}) = (y_{true} - y_{pred})²$\n",
    "\n",
    "### Prédicteur de Bayes\n",
    "$$f(x)=\\mathbb{E}[Y|X=x]$$  \n",
    "donc:\n",
    "$$f(x)=\\mathbb E[2X+\\epsilon|X=x]$$\n",
    "d'ou, $$f(x) = 2X$$\n",
    "\n",
    "### Risque de Bayes\n",
    "\n",
    "$$R(f)=\\mathbb E[(Y - f(X))²]$$\n",
    "Donc,  \n",
    "$$R(f) = \\mathbb E[\\epsilon²]$$"
   ]
  },
  {
   "cell_type": "code",
   "execution_count": 2,
   "metadata": {},
   "outputs": [],
   "source": [
    "import numpy as np\n",
    "rng = np.random.default_rng()"
   ]
  },
  {
   "cell_type": "markdown",
   "metadata": {},
   "source": [
    "## Nous allons utiliser\n",
    "- `X` pour la température en Celcius qui est défini dans $\\mathbb{R}$\n",
    "- `y` consomation électrique en MW qui est défini dans $\\mathbb{R}$"
   ]
  },
  {
   "cell_type": "code",
   "execution_count": 24,
   "metadata": {},
   "outputs": [],
   "source": [
    "X = rng.uniform(size=(100,))\n",
    "y = X + rng.normal(size=(100,))"
   ]
  },
  {
   "cell_type": "markdown",
   "metadata": {},
   "source": [
    "### Nous allons utiliser la square loss pour pénaliser les grandes erreurs"
   ]
  },
  {
   "cell_type": "code",
   "execution_count": null,
   "metadata": {},
   "outputs": [],
   "source": [
    "def loss(y_pred, y_true):\n",
    "    return np.mean((y_pred - y_true) ** 2)"
   ]
  },
  {
   "cell_type": "code",
   "execution_count": null,
   "metadata": {},
   "outputs": [],
   "source": [
    "def bayes(X, y, x_query, precision=1):\n",
    "    X_rounded = np.round(X, precision)\n",
    "    x_query_rounded = np.round(x_query, precision)\n",
    "    mask = X_rounded == x_query_rounded\n",
    "    if np.sum(mask) == 0:\n",
    "        return np.nan\n",
    "    return np.mean(y[mask])\n",
    "\n",
    "def bayes_risk(X, y, precision=1):\n",
    "    X_rounded = np.round(X, precision)\n",
    "    unique_x = np.unique(X_rounded)\n",
    "    risk = 0\n",
    "    for x_val in unique_x:\n",
    "        mask = X_rounded == x_val\n",
    "        y_true = y[mask]\n",
    "        y_pred = np.mean(y_true)\n",
    "        local_risk = np.mean((y_true - y_pred) ** 2)\n",
    "        prob_x = np.mean(mask)\n",
    "        risk += local_risk * prob_x\n",
    "    return risk"
   ]
  },
  {
   "cell_type": "code",
   "execution_count": 47,
   "metadata": {},
   "outputs": [
    {
     "name": "stdout",
     "output_type": "stream",
     "text": [
      "Bayes risk: 0.1875\n"
     ]
    }
   ],
   "source": [
    "bayes_risk_value = bayes_risk(X, y)\n",
    "print(\"Bayes risk:\", bayes_risk_value)"
   ]
  },
  {
   "cell_type": "code",
   "execution_count": null,
   "metadata": {},
   "outputs": [],
   "source": []
  }
 ],
 "metadata": {
  "kernelspec": {
   "display_name": "env-ftml-project",
   "language": "python",
   "name": "python3"
  },
  "language_info": {
   "codemirror_mode": {
    "name": "ipython",
    "version": 3
   },
   "file_extension": ".py",
   "mimetype": "text/x-python",
   "name": "python",
   "nbconvert_exporter": "python",
   "pygments_lexer": "ipython3",
   "version": "3.10.12"
  }
 },
 "nbformat": 4,
 "nbformat_minor": 2
}
