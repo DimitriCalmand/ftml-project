{
 "cells": [
  {
   "metadata": {},
   "cell_type": "markdown",
   "source": [
    "# Bike Sharing Demand Regression Analysis\n",
    "\n",
    "This notebook performs a regression analysis to predict the **total count of bike rentals (`cnt`)** using the Bike Sharing Dataset from Kaggle. We will:\n",
    "\n",
    "1. **Present the dataset and describe its key features**.\n",
    "2. **Define our prediction problem**.\n",
    "3. **Load the data**.\n",
    "4. **Explore the data**.\n",
    "5. **Preprocess the data**.\n",
    "6. **Compare multiple regression models** (Linear Regression, Decision Tree, Random Forest).\n",
    "7. **Tune hyperparameters**\n",
    "8. **Evaluate model performance**\n",
    "9. **Discuss results**\n",
    "\n",
    "---"
   ],
   "id": "6d1dbdd47c77984f"
  },
  {
   "metadata": {},
   "cell_type": "markdown",
   "source": [
    "## 1. Dataset Presentation\n",
    "\n",
    "We use data from a public bike-sharing program, where users can rent bikes through an automated system. Each record corresponds to an hourly observation with features capturing date/time, weather conditions, and user counts. Key fields include:\n",
    "\n",
    "- **`season`**, **`mnth`**, **`weekday`**, **`workingday`**, **`holiday`**: Temporal and calendar indicators.\n",
    "- **`weathersit`**: Weather situation (1: clear to 4: extreme conditions).\n",
    "- **`temp`, `atemp`, `hum`, `windspeed`**: Normalized environmental variables.\n",
    "- **`cnt`**: Total bike rentals (target variable).\n",
    "\n",
    "Dataset URL (downloaded as CSV):\n",
    "https://www.kaggle.com/datasets/lakshmi25npathi/bike-sharing-dataset/data\n",
    "\n",
    "> **Note**: We will exclude the breakdown of `casual` and `registered` in modeling to avoid data leakage, focusing only on features available before rental."
   ],
   "id": "2a88aa6fff641cf9"
  },
  {
   "metadata": {},
   "cell_type": "markdown",
   "source": [
    "## 2. Problem Definition\n",
    "\n",
    "We aim to **predict the hourly total bike rental count (`cnt`)** based on weather and temporal features. Accurate demand forecasting can help bike-share operators:\n",
    "\n",
    "- Optimize bike distribution and maintenance schedules.\n",
    "- Improve user satisfaction by reducing stock-outs.\n",
    "- Minimize operational costs related to rebalancing.\n",
    "\n",
    "Formally, we seek a function\n",
    "\n",
    "> $$\\hat{cnt} = f(season, yr, mnth, hr, holiday, weekday, workingday, weathersit, temp, atemp, hum, windspeed)$$\n",
    "\n",
    "We will compare model performance in terms of mean absolute error (MAE) and root mean squared error (RMSE), as well as training time."
   ],
   "id": "ba6af7b27afc40d9"
  },
  {
   "metadata": {},
   "cell_type": "markdown",
   "source": "## 3. Imports and Data Loading",
   "id": "9d750e4cc5eb07ec"
  },
  {
   "metadata": {
    "ExecuteTime": {
     "end_time": "2025-07-01T15:38:21.856002Z",
     "start_time": "2025-07-01T15:38:21.690328Z"
    }
   },
   "cell_type": "code",
   "source": [
    "import pandas as pd\n",
    "import numpy as np\n",
    "import matplotlib.pyplot as plt\n",
    "import seaborn as sns\n",
    "from sklearn.model_selection import train_test_split, GridSearchCV, cross_val_score\n",
    "from sklearn.preprocessing import OneHotEncoder, StandardScaler\n",
    "from sklearn.compose import ColumnTransformer\n",
    "from sklearn.pipeline import Pipeline\n",
    "from sklearn.linear_model import LinearRegression\n",
    "from sklearn.tree import DecisionTreeRegressor\n",
    "from sklearn.ensemble import RandomForestRegressor\n",
    "from sklearn.metrics import mean_absolute_error, mean_squared_error\n",
    "\n",
    "# Load daily data\n",
    "url = 'data/day.csv'  # replace with local path if needed\n",
    "df = pd.read_csv(url)\n",
    "df.head()"
   ],
   "id": "697be1d3ec191834",
   "outputs": [
    {
     "data": {
      "text/plain": [
       "   instant      dteday  season  yr  mnth  holiday  weekday  workingday  \\\n",
       "0        1  2011-01-01       1   0     1        0        6           0   \n",
       "1        2  2011-01-02       1   0     1        0        0           0   \n",
       "2        3  2011-01-03       1   0     1        0        1           1   \n",
       "3        4  2011-01-04       1   0     1        0        2           1   \n",
       "4        5  2011-01-05       1   0     1        0        3           1   \n",
       "\n",
       "   weathersit      temp     atemp       hum  windspeed  casual  registered  \\\n",
       "0           2  0.344167  0.363625  0.805833   0.160446     331         654   \n",
       "1           2  0.363478  0.353739  0.696087   0.248539     131         670   \n",
       "2           1  0.196364  0.189405  0.437273   0.248309     120        1229   \n",
       "3           1  0.200000  0.212122  0.590435   0.160296     108        1454   \n",
       "4           1  0.226957  0.229270  0.436957   0.186900      82        1518   \n",
       "\n",
       "    cnt  \n",
       "0   985  \n",
       "1   801  \n",
       "2  1349  \n",
       "3  1562  \n",
       "4  1600  "
      ],
      "text/html": [
       "<div>\n",
       "<style scoped>\n",
       "    .dataframe tbody tr th:only-of-type {\n",
       "        vertical-align: middle;\n",
       "    }\n",
       "\n",
       "    .dataframe tbody tr th {\n",
       "        vertical-align: top;\n",
       "    }\n",
       "\n",
       "    .dataframe thead th {\n",
       "        text-align: right;\n",
       "    }\n",
       "</style>\n",
       "<table border=\"1\" class=\"dataframe\">\n",
       "  <thead>\n",
       "    <tr style=\"text-align: right;\">\n",
       "      <th></th>\n",
       "      <th>instant</th>\n",
       "      <th>dteday</th>\n",
       "      <th>season</th>\n",
       "      <th>yr</th>\n",
       "      <th>mnth</th>\n",
       "      <th>holiday</th>\n",
       "      <th>weekday</th>\n",
       "      <th>workingday</th>\n",
       "      <th>weathersit</th>\n",
       "      <th>temp</th>\n",
       "      <th>atemp</th>\n",
       "      <th>hum</th>\n",
       "      <th>windspeed</th>\n",
       "      <th>casual</th>\n",
       "      <th>registered</th>\n",
       "      <th>cnt</th>\n",
       "    </tr>\n",
       "  </thead>\n",
       "  <tbody>\n",
       "    <tr>\n",
       "      <th>0</th>\n",
       "      <td>1</td>\n",
       "      <td>2011-01-01</td>\n",
       "      <td>1</td>\n",
       "      <td>0</td>\n",
       "      <td>1</td>\n",
       "      <td>0</td>\n",
       "      <td>6</td>\n",
       "      <td>0</td>\n",
       "      <td>2</td>\n",
       "      <td>0.344167</td>\n",
       "      <td>0.363625</td>\n",
       "      <td>0.805833</td>\n",
       "      <td>0.160446</td>\n",
       "      <td>331</td>\n",
       "      <td>654</td>\n",
       "      <td>985</td>\n",
       "    </tr>\n",
       "    <tr>\n",
       "      <th>1</th>\n",
       "      <td>2</td>\n",
       "      <td>2011-01-02</td>\n",
       "      <td>1</td>\n",
       "      <td>0</td>\n",
       "      <td>1</td>\n",
       "      <td>0</td>\n",
       "      <td>0</td>\n",
       "      <td>0</td>\n",
       "      <td>2</td>\n",
       "      <td>0.363478</td>\n",
       "      <td>0.353739</td>\n",
       "      <td>0.696087</td>\n",
       "      <td>0.248539</td>\n",
       "      <td>131</td>\n",
       "      <td>670</td>\n",
       "      <td>801</td>\n",
       "    </tr>\n",
       "    <tr>\n",
       "      <th>2</th>\n",
       "      <td>3</td>\n",
       "      <td>2011-01-03</td>\n",
       "      <td>1</td>\n",
       "      <td>0</td>\n",
       "      <td>1</td>\n",
       "      <td>0</td>\n",
       "      <td>1</td>\n",
       "      <td>1</td>\n",
       "      <td>1</td>\n",
       "      <td>0.196364</td>\n",
       "      <td>0.189405</td>\n",
       "      <td>0.437273</td>\n",
       "      <td>0.248309</td>\n",
       "      <td>120</td>\n",
       "      <td>1229</td>\n",
       "      <td>1349</td>\n",
       "    </tr>\n",
       "    <tr>\n",
       "      <th>3</th>\n",
       "      <td>4</td>\n",
       "      <td>2011-01-04</td>\n",
       "      <td>1</td>\n",
       "      <td>0</td>\n",
       "      <td>1</td>\n",
       "      <td>0</td>\n",
       "      <td>2</td>\n",
       "      <td>1</td>\n",
       "      <td>1</td>\n",
       "      <td>0.200000</td>\n",
       "      <td>0.212122</td>\n",
       "      <td>0.590435</td>\n",
       "      <td>0.160296</td>\n",
       "      <td>108</td>\n",
       "      <td>1454</td>\n",
       "      <td>1562</td>\n",
       "    </tr>\n",
       "    <tr>\n",
       "      <th>4</th>\n",
       "      <td>5</td>\n",
       "      <td>2011-01-05</td>\n",
       "      <td>1</td>\n",
       "      <td>0</td>\n",
       "      <td>1</td>\n",
       "      <td>0</td>\n",
       "      <td>3</td>\n",
       "      <td>1</td>\n",
       "      <td>1</td>\n",
       "      <td>0.226957</td>\n",
       "      <td>0.229270</td>\n",
       "      <td>0.436957</td>\n",
       "      <td>0.186900</td>\n",
       "      <td>82</td>\n",
       "      <td>1518</td>\n",
       "      <td>1600</td>\n",
       "    </tr>\n",
       "  </tbody>\n",
       "</table>\n",
       "</div>"
      ]
     },
     "execution_count": 68,
     "metadata": {},
     "output_type": "execute_result"
    }
   ],
   "execution_count": 68
  },
  {
   "metadata": {},
   "cell_type": "markdown",
   "source": [
    "## 4. Exploratory Data Analysis (EDA)\n",
    "\n",
    "We start by examining summary statistics, missing values, and feature correlations."
   ],
   "id": "55078995481f698"
  },
  {
   "metadata": {
    "ExecuteTime": {
     "end_time": "2025-07-01T15:38:21.958224Z",
     "start_time": "2025-07-01T15:38:21.941653Z"
    }
   },
   "cell_type": "code",
   "source": [
    "# Summary stats and missing values\n",
    "df = df.drop(columns=['instant', 'dteday', 'casual', 'registered'])\n",
    "\n",
    "df.isna().sum()"
   ],
   "id": "b1f69c40f184f87b",
   "outputs": [
    {
     "data": {
      "text/plain": [
       "season        0\n",
       "yr            0\n",
       "mnth          0\n",
       "holiday       0\n",
       "weekday       0\n",
       "workingday    0\n",
       "weathersit    0\n",
       "temp          0\n",
       "atemp         0\n",
       "hum           0\n",
       "windspeed     0\n",
       "cnt           0\n",
       "dtype: int64"
      ]
     },
     "execution_count": 69,
     "metadata": {},
     "output_type": "execute_result"
    }
   ],
   "execution_count": 69
  },
  {
   "metadata": {
    "ExecuteTime": {
     "end_time": "2025-07-01T15:38:22.252112Z",
     "start_time": "2025-07-01T15:38:22.031761Z"
    }
   },
   "cell_type": "code",
   "source": [
    "# Correlation matrix\n",
    "target_corr = df.corr()['cnt'].sort_values(ascending=False)\n",
    "print(\"Top correlations with cnt:\\n\", target_corr.head(10))\n",
    "\n",
    "plt.figure(figsize=(10, 8))\n",
    "sns.heatmap(df.corr(), cmap='coolwarm', fmt='.2f')\n",
    "plt.title('Feature Correlation Matrix')\n",
    "plt.show()"
   ],
   "id": "af5226fc05f7d5a4",
   "outputs": [
    {
     "name": "stdout",
     "output_type": "stream",
     "text": [
      "Top correlations with cnt:\n",
      " cnt           1.000000\n",
      "atemp         0.631066\n",
      "temp          0.627494\n",
      "yr            0.566710\n",
      "season        0.406100\n",
      "mnth          0.279977\n",
      "weekday       0.067443\n",
      "workingday    0.061156\n",
      "holiday      -0.068348\n",
      "hum          -0.100659\n",
      "Name: cnt, dtype: float64\n"
     ]
    },
    {
     "data": {
      "text/plain": [
       "<Figure size 1000x800 with 2 Axes>"
      ],
      "image/png": "[encoded data removed]"
     },
     "metadata": {},
     "output_type": "display_data"
    }
   ],
   "execution_count": 70
  },
  {
   "metadata": {},
   "cell_type": "markdown",
   "source": [
    "## 5. Preprocessing\n",
    "\n",
    "- Split the data into features (`X`) and target (`y`).\n",
    "- One-hot encode categorical variables and scale numeric ones."
   ],
   "id": "d6b2bdc31774df96"
  },
  {
   "metadata": {
    "ExecuteTime": {
     "end_time": "2025-07-01T15:38:22.299384Z",
     "start_time": "2025-07-01T15:38:22.282239Z"
    }
   },
   "cell_type": "code",
   "source": [
    "# Features and target\n",
    "X = df.drop(columns=['cnt'])\n",
    "y = df['cnt']\n",
    "\n",
    "X_train, X_test, y_train, y_test = train_test_split(X, y, test_size=0.2, random_state=42)\n",
    "\n",
    "# Identify types\n",
    "numeric_features = ['temp', 'atemp', 'hum', 'windspeed']\n",
    "\n",
    "categorical_features = ['season', 'yr', 'mnth', 'holiday', 'weekday', 'workingday', 'weathersit']\n",
    "\n",
    "# Preprocessing pipelines\n",
    "numeric_transformer = StandardScaler()\n",
    "cat_transformer = OneHotEncoder(drop='first', sparse_output=False)\n",
    "\n",
    "preprocessor = ColumnTransformer(\n",
    "    transformers=[\n",
    "        ('num', numeric_transformer, numeric_features),\n",
    "        ('cat', cat_transformer, categorical_features)\n",
    "    ]\n",
    ")"
   ],
   "id": "dfa1478f9df84d06",
   "outputs": [],
   "execution_count": 71
  },
  {
   "metadata": {},
   "cell_type": "markdown",
   "source": [
    "## 6. Model Comparison\n",
    "\n",
    "We will compare three models:\n",
    "\n",
    "1. **Linear Regression**\n",
    "2. **Decision Tree Regressor**\n",
    "3. **Random Forest Regressor**\n",
    "\n",
    "We use a pipeline to apply preprocessing and fit each model, evaluating with 5-fold CV."
   ],
   "id": "3cf071d74c66025a"
  },
  {
   "metadata": {
    "ExecuteTime": {
     "end_time": "2025-07-01T15:38:25.071451Z",
     "start_time": "2025-07-01T15:38:22.377585Z"
    }
   },
   "cell_type": "code",
   "source": [
    "from sklearn.metrics import r2_score\n",
    "\n",
    "models = {\n",
    "    'LinearRegression': LinearRegression(),\n",
    "    'DecisionTree': DecisionTreeRegressor(random_state=42),\n",
    "    'RandomForest': RandomForestRegressor(n_estimators=100, random_state=42)\n",
    "}\n",
    "\n",
    "results = []\n",
    "for name, model in models.items():\n",
    "    pipe = Pipeline(steps=[('preprocessor', preprocessor), ('regressor', model)])\n",
    "\n",
    "    pipe.fit(X_train, y_train)\n",
    "    y_pred = pipe.predict(X_test)\n",
    "\n",
    "    mae = mean_absolute_error(y_test, y_pred)\n",
    "    rmse = np.sqrt(mean_squared_error(y_test, y_pred))\n",
    "    r2 = r2_score(y_test, y_pred)\n",
    "\n",
    "    # Cross-validated MAE\n",
    "    cv_mae = -cross_val_score(pipe, X, y, cv=5, scoring='neg_mean_absolute_error').mean()\n",
    "    cv_rmse = np.sqrt(-cross_val_score(pipe, X, y, cv=5, scoring='neg_mean_squared_error').mean())\n",
    "\n",
    "    results.append({'Model': name, 'MAE': int(mae), 'RMSE': int(rmse), 'R2': r2,\n",
    "                    'CV MAE': int(cv_mae), 'CV RMSE':int(cv_rmse)})\n",
    "\n",
    "results_df = pd.DataFrame(results)\n",
    "results_df"
   ],
   "id": "af7540700c3b3f9f",
   "outputs": [
    {
     "data": {
      "text/plain": [
       "              Model  MAE  RMSE        R2  CV MAE  CV RMSE\n",
       "0  LinearRegression  583   796  0.841803     713      931\n",
       "1      DecisionTree  693  1030  0.735112    1041     1294\n",
       "2      RandomForest  468   721  0.870037     838     1036"
      ],
      "text/html": [
       "<div>\n",
       "<style scoped>\n",
       "    .dataframe tbody tr th:only-of-type {\n",
       "        vertical-align: middle;\n",
       "    }\n",
       "\n",
       "    .dataframe tbody tr th {\n",
       "        vertical-align: top;\n",
       "    }\n",
       "\n",
       "    .dataframe thead th {\n",
       "        text-align: right;\n",
       "    }\n",
       "</style>\n",
       "<table border=\"1\" class=\"dataframe\">\n",
       "  <thead>\n",
       "    <tr style=\"text-align: right;\">\n",
       "      <th></th>\n",
       "      <th>Model</th>\n",
       "      <th>MAE</th>\n",
       "      <th>RMSE</th>\n",
       "      <th>R2</th>\n",
       "      <th>CV MAE</th>\n",
       "      <th>CV RMSE</th>\n",
       "    </tr>\n",
       "  </thead>\n",
       "  <tbody>\n",
       "    <tr>\n",
       "      <th>0</th>\n",
       "      <td>LinearRegression</td>\n",
       "      <td>583</td>\n",
       "      <td>796</td>\n",
       "      <td>0.841803</td>\n",
       "      <td>713</td>\n",
       "      <td>931</td>\n",
       "    </tr>\n",
       "    <tr>\n",
       "      <th>1</th>\n",
       "      <td>DecisionTree</td>\n",
       "      <td>693</td>\n",
       "      <td>1030</td>\n",
       "      <td>0.735112</td>\n",
       "      <td>1041</td>\n",
       "      <td>1294</td>\n",
       "    </tr>\n",
       "    <tr>\n",
       "      <th>2</th>\n",
       "      <td>RandomForest</td>\n",
       "      <td>468</td>\n",
       "      <td>721</td>\n",
       "      <td>0.870037</td>\n",
       "      <td>838</td>\n",
       "      <td>1036</td>\n",
       "    </tr>\n",
       "  </tbody>\n",
       "</table>\n",
       "</div>"
      ]
     },
     "execution_count": 72,
     "metadata": {},
     "output_type": "execute_result"
    }
   ],
   "execution_count": 72
  },
  {
   "metadata": {},
   "cell_type": "markdown",
   "source": [
    "## 7. Hyperparameter Tuning (Random Forest)\n",
    "\n",
    "We tune `n_estimators` and `max_depth` for the Random Forest using grid search."
   ],
   "id": "e9bb39d02814e22e"
  },
  {
   "metadata": {
    "ExecuteTime": {
     "end_time": "2025-07-01T15:38:28.200445Z",
     "start_time": "2025-07-01T15:38:25.106094Z"
    }
   },
   "cell_type": "code",
   "source": [
    "param_grid = {\n",
    "    'regressor__n_estimators': [50, 100, 200],\n",
    "    'regressor__max_depth': [None, 10, 20]\n",
    "}\n",
    "\n",
    "rf_pipe = Pipeline(steps=[('preprocessor', preprocessor), ('regressor', RandomForestRegressor(random_state=42))])\n",
    "grid_search = GridSearchCV(rf_pipe, param_grid, cv=3, scoring='neg_mean_squared_error', n_jobs=-1)\n",
    "grid_search.fit(X, y)\n",
    "\n",
    "print(\"Best params:\", grid_search.best_params_)\n",
    "best_rmse = np.sqrt(-grid_search.best_score_)\n",
    "print(f\"Best CV RMSE: {best_rmse:.2f}\")"
   ],
   "id": "214ad45890bf6b18",
   "outputs": [
    {
     "name": "stdout",
     "output_type": "stream",
     "text": [
      "Best params: {'regressor__max_depth': None, 'regressor__n_estimators': 50}\n",
      "Best CV RMSE: 1029.87\n"
     ]
    }
   ],
   "execution_count": 73
  },
  {
   "metadata": {},
   "cell_type": "markdown",
   "source": [
    "## 8. Final Evaluation\n",
    "\n",
    "Retrain the best model on the full dataset and report final metrics via train-test split."
   ],
   "id": "27e360c97072937"
  },
  {
   "metadata": {
    "ExecuteTime": {
     "end_time": "2025-07-01T15:38:28.371666Z",
     "start_time": "2025-07-01T15:38:28.235795Z"
    }
   },
   "cell_type": "code",
   "source": [
    "best_model = grid_search.best_estimator_\n",
    "best_model.fit(X_train, y_train)\n",
    "\n",
    "y_pred = best_model.predict(X_test)\n",
    "mae_final = mean_absolute_error(y_test, y_pred)\n",
    "rmse_final = np.sqrt(mean_squared_error(y_test, y_pred))\n",
    "print(f\"Test MAE: {mae_final:.2f}\")\n",
    "print(f\"Test RMSE: {rmse_final:.2f}\")\n",
    "print(f\"Test R2: {r2_score(y_test, y_pred):.2f}\")\n",
    "print(f\"Average daily count: {df['cnt'].mean():.2f}\")"
   ],
   "id": "58a21ed74bf8b826",
   "outputs": [
    {
     "name": "stdout",
     "output_type": "stream",
     "text": [
      "Test MAE: 462.74\n",
      "Test RMSE: 713.21\n",
      "Test R2: 0.87\n",
      "Average daily count: 4504.35\n"
     ]
    }
   ],
   "execution_count": 74
  },
  {
   "metadata": {},
   "cell_type": "markdown",
   "source": [
    "## 9. Interpretation of Results\n",
    "\n",
    "The final tuned model achieved:\n",
    "\n",
    "* **MAE (Mean Absolute Error):** \\~462.74 bikes\n",
    "* **RMSE (Root Mean Squared Error):** \\~713.21 bikes\n",
    "\n",
    "Notice that the cross-validated scores were higher, indicating some overfitting on the training data.\n",
    "\n",
    "#### Accuracy relative to business context:\n",
    "\n",
    "* The **MAE is just about 10.3%** of the average daily demand.\n",
    "* The **RMSE** (which penalizes large errors more) is also reasonable at **\\~15.8%** of daily demand.\n",
    "* This level of accuracy is quite good in the bike-sharing industry, overstocking or understocking bikes can lead to operational inefficiencies or customer dissatisfaction but a small error is acceptable.\n",
    "\n",
    "#### This model could:\n",
    "\n",
    "* Help **allocate bikes better** across stations on a daily basis.\n",
    "* Anticipate **peak vs. low-demand days**, possibly even linking it to external variables (e.g., promotions, weather forecasts).\n"
   ],
   "id": "38693e0c502cff63"
  }
 ],
 "metadata": {
  "kernelspec": {
   "display_name": "Python 3",
   "language": "python",
   "name": "python3"
  },
  "language_info": {
   "codemirror_mode": {
    "name": "ipython",
    "version": 2
   },
   "file_extension": ".py",
   "mimetype": "text/x-python",
   "name": "python",
   "nbconvert_exporter": "python",
   "pygments_lexer": "ipython2",
   "version": "2.7.6"
  }
 },
 "nbformat": 4,
 "nbformat_minor": 5
}
